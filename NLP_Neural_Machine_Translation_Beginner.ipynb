{
  "nbformat": 4,
  "nbformat_minor": 0,
  "metadata": {
    "colab": {
      "name": "NLP-Neural-Machine-Translation-Beginner.ipynb",
      "provenance": [],
      "collapsed_sections": [],
      "authorship_tag": "ABX9TyOYv/7SBqhGxM7nVU6/jz15",
      "include_colab_link": true
    },
    "kernelspec": {
      "name": "python3",
      "display_name": "Python 3"
    },
    "language_info": {
      "name": "python"
    }
  },
  "cells": [
    {
      "cell_type": "markdown",
      "metadata": {
        "id": "view-in-github",
        "colab_type": "text"
      },
      "source": [
        "<a href=\"https://colab.research.google.com/github/mr-alamdari/NLP-Neural-Machine-Translation-Beginner/blob/main/NLP_Neural_Machine_Translation_Beginner.ipynb\" target=\"_parent\"><img src=\"https://colab.research.google.com/assets/colab-badge.svg\" alt=\"Open In Colab\"/></a>"
      ]
    },
    {
      "cell_type": "code",
      "execution_count": 1,
      "metadata": {
        "id": "qVp4lpwKg9zW"
      },
      "outputs": [],
      "source": [
        "import os\n",
        "import re"
      ]
    },
    {
      "cell_type": "code",
      "source": [
        "import trax"
      ],
      "metadata": {
        "id": "lmmaLuxWhZPq"
      },
      "execution_count": null,
      "outputs": []
    }
  ]
}